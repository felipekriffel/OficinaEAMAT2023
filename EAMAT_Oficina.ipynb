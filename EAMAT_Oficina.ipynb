{
  "nbformat": 4,
  "nbformat_minor": 5,
  "metadata": {
    "kernelspec": {
      "display_name": "Python 3",
      "language": "python",
      "name": "python3"
    },
    "language_info": {
      "codemirror_mode": {
        "name": "ipython",
        "version": 3
      },
      "file_extension": ".py",
      "mimetype": "text/x-python",
      "name": "python",
      "nbconvert_exporter": "python",
      "pygments_lexer": "ipython3",
      "version": "3.8.5"
    },
    "colab": {
      "provenance": []
    }
  },
  "cells": [
    {
      "cell_type": "markdown",
      "metadata": {
        "id": "regulated-concert"
      },
      "source": [
        "# Oficina EAMAT: Ferramentas em Python para Matemática e Computação Científica: Uma introdução ao Numpy e MatPlotLib\n",
        "\n",
        "Em muitos trabalhos de Matemática e Computação Científica, bem como nas mais diversas Ciências Exatas, são necessárias implementações computacionais de diferentes métodos. Em particular, muitos deles requerem o uso de programação, tornando de grande interesse o uso de linguagens e ferramentas que facilitem a execução de alguns processos e operações. Dentre muitos softwares e linguagens disponíveis para esse fim, uma que se destaca e é amplamente utilizada atualmente, devido à grande gama de bibliotecas e recursos disponíveis, é o Python, linguagem de programação de livre uso. Nesta oficina, buscamos introduzir duas das principais bibliotecas disponíveis em Python com ferramentas para Matemática Aplicada e Computação Científica: o Numpy, biblioteca com estruturas e métodos para operações vetoriais, e o MatPlotLib, biblioteca para geração de gráficos. Serão exploradas as funcionalidades básicas de cada biblioteca, trabalhando alguns exemplos práticos. Não é pré-requisito para esta oficina o conhecimento prévio em programação, sendo necessárias apenas noções básicas de vetores, matrizes, funções e gráficos de funções.\n",
        "\n",
        "Felipe K. Riffel\n",
        "\n",
        "2023.2"
      ],
      "id": "regulated-concert"
    },
    {
      "cell_type": "markdown",
      "metadata": {
        "id": "incident-envelope"
      },
      "source": [
        "# Google Colab\n",
        "\n",
        "O Google Colab é uma ferramenta disponibilizada pela Google que nos permite fazer documentos de texto com código executável em um mesmo arquivo. Ela é desenvolvida em cima de uma ferramenta de código aberto chamada [Jupyter Lab](https://jupyter.org/), mas estaremos utilizando o Colab por hora pois é possível utilizá-lo online e não requer instalação adicional. Entretanto, tem as desvantagens de ser somente online, necessitar de uma conta do Google para utilizar, e não é tão configurável, tornando mais difícil o controle de versões e no uso de bibliotecas mais específicas. A quem se interessar, recomenda-se a pesquisa sobre o Jupyter. Porém, para essa oficina e grande parte dos trabalhos básicos, o Colab é mais do que suficiente.\n",
        "\n",
        "Para acessar o Colab, basta entrar no site https://colab.research.google.com/. Ao abrir o colab já nos deparamos com um arquivo de introdução que leva para outros artigos explorando todas as ferramentas do software. Vale a leitura desses outros arquivos pois são bem explicativos e mostram muitas ferramentas interessantes que podem ser utilizadas.\n",
        "\n",
        "Para criar um arquivo novo, basta logar em sua conta do Google, ir em \"Arquivo - Novo Notebook\".\n"
      ],
      "id": "incident-envelope"
    },
    {
      "cell_type": "markdown",
      "metadata": {
        "id": "second-cutting"
      },
      "source": [
        "O Colab é desenvolvido e funciona apenas com códigos em Python, e podem ser utilizadas praticamente todas as ferradmentas da linguagem, bem como o uso das principais bibliotecas disponíveis.\n",
        "\n",
        "Os textos podem ser formatados, colocando títulos, negrito e itálico, links e até ferramentas mais avançadas como tabelas e até LaTeX, tudo isso usando uma linguagem de fomatação chamada *Markdown*. Há um guia no próprio Colab que explica como usar essa linguagem para formatação. Basta acessar no link https://colab.research.google.com/notebooks/markdown_guide.ipynb.\n",
        "\n",
        "Há também um guia em português que vale ser acessado no seguinte link http://sumo.pe/blog/guia-markdown.html."
      ],
      "id": "second-cutting"
    },
    {
      "cell_type": "markdown",
      "source": [
        "# Fundamentos do Python\n",
        "\n",
        "Esta oficina não tem o objetivo de trabalhar algoritmos ou conceitos tradicionais da programação, sendo nosso foco apenas introduzir as ferramentas citadas. De todo modo, a seguir apresentamos algumas funcionalidades básicas do Python que estaremos utilizando.\n"
      ],
      "metadata": {
        "id": "3hoCzXSSbfjz"
      },
      "id": "3hoCzXSSbfjz"
    },
    {
      "cell_type": "markdown",
      "source": [
        "## Variáveis\n",
        "\n",
        "Uma variável essencialmente é um espaço alocado pelo computador para armazenar algum valor, sendo ele numérico, texto ou demais estruturas de dados. A ideia é podermos acessar esse valor em momentos seguintes do nosso código, podendo usá-lo em operações ou mesmo modificá-lo quando necessário.\n",
        "\n",
        "Para inicializar uma variável, basta escrever seu nome, seguido de um sinal de igual e o valor que se quer atribuir. A seguir, alguns exemplos de inicalização de variável.\n",
        "\n",
        "```\n",
        "x = 2\n",
        "A = 20.5 #Decimais devem ser representados com uso de ponto, sendo a vírgula reservada para outros contextos\n",
        "y = -4.5\n",
        "z = -3 + 4j # O Python tem suporte para números complexos, sendo usado a letra j para representar a unidade imaginária\n",
        "```\n",
        "\n",
        "O nome deve conter letras, podendo conter números ou o símbolo *underline* (__), não podendo iniciar com números. Uma observação importante é que a linguagem diferencia entre letras maiúsculas e minúsculas."
      ],
      "metadata": {
        "id": "TB081JcucNhv"
      },
      "id": "TB081JcucNhv"
    },
    {
      "cell_type": "markdown",
      "source": [
        "Para utilizar o valor da variável, basta escrever seu nome no contexto em que se quer utilizar. O exemplo a seguir inicia uma variável `a` e usa a função `print` para exibir o seu valor na linha de comando. Para usar essa função, basta escrever `print(var)`, sendo `var` o nome da variável que se deseja exibir."
      ],
      "metadata": {
        "id": "FFUKGYaoerOi"
      },
      "id": "FFUKGYaoerOi"
    },
    {
      "cell_type": "code",
      "source": [
        "a = 5\n",
        "print(a)"
      ],
      "metadata": {
        "colab": {
          "base_uri": "https://localhost:8080/"
        },
        "id": "RHSFU7H3eQOO",
        "outputId": "388adbf0-df7d-48fa-861d-9b6d4bcc913f"
      },
      "id": "RHSFU7H3eQOO",
      "execution_count": 1,
      "outputs": [
        {
          "output_type": "stream",
          "name": "stdout",
          "text": [
            "5\n"
          ]
        }
      ]
    },
    {
      "cell_type": "markdown",
      "source": [
        "A função `print` também pode exibir textos, inclusive combinados com o valor de uma ou mais variáveis. Para exibir um texto, basta usar a função na forma `print(\"texto\")', onde `texto` é a mensagem que se quer exibir. Importante: o texto sempre deve estar entre aspas simples ou duplas.\n",
        "\n",
        "Para combinar um texto com um valor de variável dentro de uma mensagem, basta separar os textos e variáveis por vírgulas dentro dos parenteses.\n",
        "\n",
        "Exemplo:"
      ],
      "metadata": {
        "id": "X1UEyarykbtG"
      },
      "id": "X1UEyarykbtG"
    },
    {
      "cell_type": "code",
      "source": [
        "x=2\n",
        "y=5\n",
        "print(\"A seguir, os valores das variáveis x e y\")\n",
        "print(\"x:\", x)\n",
        "print(\"y:\", y)"
      ],
      "metadata": {
        "colab": {
          "base_uri": "https://localhost:8080/"
        },
        "id": "CZKDecJ9lByr",
        "outputId": "f4dc938e-da2a-4779-ad59-3160f429be72"
      },
      "id": "CZKDecJ9lByr",
      "execution_count": 2,
      "outputs": [
        {
          "output_type": "stream",
          "name": "stdout",
          "text": [
            "A seguir, os valores das variáveis x e y\n",
            "x: 2\n",
            "y: 5\n"
          ]
        }
      ]
    },
    {
      "cell_type": "markdown",
      "source": [
        "## Operações Matemáticas\n",
        "\n",
        "No Python são disponíveis as principais operações aritméticas. A tabela a seguir traz as principais operações com alguns exemplos.\n",
        "\n",
        "Operador | Nome | Exemplo | Resultado\n",
        ":---: | :---: | :---: | :---:\n",
        "+ | Adição | 2 + 3 | 5\n",
        "-|Subtração|5.2 - 3.5|1.7\n",
        "\\* | Multiplicação |2.5 * 2 |5.0\n",
        "/ |Divisão (racional) |11 / 2 |6.5\n",
        "% |Módulo (resto da divisão de inteiros) |12%5 |2\n",
        "\\** |Exponenciação |2**3 |8\n",
        "// |Divisão (inteira) |11 // 2 |5"
      ],
      "metadata": {
        "id": "B37ZWbmzeSDE"
      },
      "id": "B37ZWbmzeSDE"
    },
    {
      "cell_type": "markdown",
      "source": [
        "Pode-se escrever quaisquer expressões matemáticas, podendo mesclar uso de valores numéricos explícitos e variáveis dentro das expressões. A seguir, algumas observações importantes:\n",
        "- A ordem que as operações executadas são as usuais da matemática;\n",
        "- Cada expressão matemática deve ser escrita em uma única linha. Frações, expoentes e demais expressões que se utilizam de subescritos ou sobrescritos devem ser expressas dentro da mesma linha, utilizando de parenteses para agrupamentos e composição de expressões;\n",
        "  - Exemplo: as expressões $\\frac{x+y}{2}$ e $e^{-y+1}$ devem ser escrita respectivamente na forma `(x+y)/2` e `e**(-y+1)`.\n",
        "- Cada operação deve ser escrita explicitamente com seu símbolo respectivo, não sendo reconhecidos o uso de operações implícitas como números adjacentes a uma variável ou parenteses representando a multiplicação;\n",
        "  - Exemplo: as expressões $2(3+5)$ e $8x$ devem ser escritas respectivamente como `2*(3+5)` e `8*x`;\n",
        "- Em expressões matemáticas do Python, apenas o uso de parênteses \"`()`\" é reconhecido. O uso de colchetes '`[]`' e chaves '`{}`' é reservado para outros usos dentro da linguagem. Para compor uma expressão dentro de outra utilizamos parenteses aninhados (parenteses dentro de parenteses);\n",
        "  - Exemplo: a expressão $2[x + 5(y+1)]$ deve ser escrita como `2 * (x+ 5*(y+1))`.\n",
        "\n",
        "Exemplos de expressões matemáticas escritas em Python:\n",
        "\n",
        "| Expressão Matemática | Expressão em Python |\n",
        "| --- | --- |\n",
        "| $2 + 5 \\cdot 3$ | `2 + 5*3`|\n",
        "|$\\frac{1}{x-2}$| `1/(x-2)`|\n",
        "| $e^{\\frac{y-2}{2}}$ | e**((y-2)/2) |\n",
        "| $ax^2 + bx + c$ | `a*x**2 +  b*x + c` |"
      ],
      "metadata": {
        "id": "TAe-QgR6e0Tp"
      },
      "id": "TAe-QgR6e0Tp"
    },
    {
      "cell_type": "markdown",
      "source": [
        "## Funções\n",
        "\n",
        "O Python tem algumas formas diferentes de definir funções personalisáveis. Aqui, utilizaremos uma forma para funções mais simples. que podem ser expressas como uma única expressão matemática em uma linha só.\n",
        "\n",
        "Inicializamos a função como se fosse uma variável, porém no lugar do valor escrevemos:\n",
        "```python\n",
        "lambda var: express\n",
        "```\n",
        "onde `express` é a expressão da lei de formação, e `var` é a variável que será utilizada nessa expressão. Pode ser utilizado qualquer nome para variável. Pode també ser utilizada mais de uma variável, separando o nome de cada uma por vírgula antes dos dois pontos.\n",
        "\n",
        "Para obter o valor de uma função `f` aplicada a algum outro valor `val`, simplesmente escrevemos `f(val)`, que pode ser um valor específico ou presente em qualquer variável. No caso de funções com mais variáveis, separamos cada valor por vírgula ao chamar a função.\n",
        "\n",
        "Exemplo:\n"
      ],
      "metadata": {
        "id": "vamdBRnfn5O7"
      },
      "id": "vamdBRnfn5O7"
    },
    {
      "cell_type": "code",
      "source": [
        "# Declarando uma função f com lei de formação dada por f(x)=x+1\n",
        "# Apresentando na tela o valor de f aplicado em 2 f(2)\n",
        "\n",
        "f = lambda x: x+1\n",
        "res = f(2)\n",
        "print(res)"
      ],
      "metadata": {
        "colab": {
          "base_uri": "https://localhost:8080/"
        },
        "id": "S_f6cpXGpRhk",
        "outputId": "0d19c80f-0688-4e07-9c59-5c2ef9914893"
      },
      "id": "S_f6cpXGpRhk",
      "execution_count": 3,
      "outputs": [
        {
          "output_type": "stream",
          "name": "stdout",
          "text": [
            "3\n"
          ]
        }
      ]
    },
    {
      "cell_type": "code",
      "source": [
        "# criando uma variável a com valor 5 armazenado e uma função f(x)=x²\n",
        "# armazendando o resultado de f aplicado no valor presente em a\n",
        "# apresentando esse resultado na linha de comando\n",
        "\n",
        "a = 5\n",
        "f = lambda x: x**2\n",
        "res = f(a)\n",
        "print(res)"
      ],
      "metadata": {
        "colab": {
          "base_uri": "https://localhost:8080/"
        },
        "id": "tzEbBwIzfURD",
        "outputId": "47eda03b-de12-4583-8ad0-374f53340882"
      },
      "id": "tzEbBwIzfURD",
      "execution_count": 4,
      "outputs": [
        {
          "output_type": "stream",
          "name": "stdout",
          "text": [
            "25\n"
          ]
        }
      ]
    },
    {
      "cell_type": "code",
      "source": [
        "g = lambda x,y: x*y\n",
        "valor = g(2,3)\n",
        "print(valor)\n"
      ],
      "metadata": {
        "colab": {
          "base_uri": "https://localhost:8080/"
        },
        "id": "2qWnlICdpwRs",
        "outputId": "f9b9e87a-78eb-434d-ee98-9285e2abdb22"
      },
      "id": "2qWnlICdpwRs",
      "execution_count": 5,
      "outputs": [
        {
          "output_type": "stream",
          "name": "stdout",
          "text": [
            "6\n"
          ]
        }
      ]
    },
    {
      "cell_type": "markdown",
      "metadata": {
        "id": "banner-variable"
      },
      "source": [
        "# Numpy\n",
        "\n",
        "Grande parte dos métodos numéricos em matemática se utiliza de conceitos da Álgebra Linear, baseados principalmente nas estruturas de vetores e matrizes. Essencialmente, esses podem ser interpretados como \"coleções de números\", nos quais definimos algumas operações, como soma e multiplicação, seguindo algumas regras determinadas. O Python já tem nativamente, sem necessitar de bibliotecas adicionais, estruturas como listas e tuplas para lidar com coleções de valores. Porém, essas estruturas não estão preparadas para lidar com as operações comuns de vetores e matrizes, onde seria necessário criar funções específicas para fazer cada uma dessas ações. Nesse contexto que é utilizada a biblioteca Numpy.\n",
        "\n",
        "O Numpy é um módulo que nos permite realizar operações vetoriais mais avançadas de maneira simples com um tipo diferente de listas próprias da biblioteca: o NumPy Array. Esse módulo é interessante para trabalharmos com vetores e matrizes de forma matemática, contendo um grande leque de ferramentas da Algebra Linear e Geometria Analítica, o que nos permite trabalhar com esses conceitos de forma simples e direta. Praticamente todas as bibliotecas em Python que trabalham com operações vetoriais utilizam o Numpy e seus recursos como base, tratando-se de uma biblioteca essencial nesse contexto.\n",
        "\n",
        "A biblioteca tem muitas similaridades e funções análogas com a linguagem de programação MATLAB. Há inclusive uma página na documentação oficial comparando as funções do módulo com as presentes no MATLAB, no artigo [NumPy for MATLAB users\n",
        "](https://numpy.org/devdocs/user/numpy-for-matlab-users.html). Vale a leitura para quem está mais habituado com essa ferramenta.\n",
        "\n",
        "## Importando\n",
        "\n",
        "O nome oficial do módulo é simplesmente `numpy`, mas costuma-se por convenção o usar o apelido `np`. Ele é um módulo muito comum e portanto costuma estar instalado na maioria das IDE e ferramentas online, inclusive no Colab. Em todo caso, na documentação oficial há a [instrução de como instalá-lo](https://numpy.org/install/). Para utilizar essa biblioteca, basta executar a seguinte linha de comando em qualquer célula de código, antes de usar qualquer de suas ferramentas:"
      ],
      "id": "banner-variable"
    },
    {
      "cell_type": "code",
      "metadata": {
        "id": "illegal-cornwall"
      },
      "source": [
        "import numpy as np"
      ],
      "id": "illegal-cornwall",
      "execution_count": 6,
      "outputs": []
    },
    {
      "cell_type": "markdown",
      "metadata": {
        "id": "medium-proof"
      },
      "source": [
        "## O Numpy Array\n",
        "\n",
        "A principal ferramenta do Numpy é uma estrutura de dados denominada Numpy Array, que consiste na esturuta básica de vetores e matrizes. Existem algumas formas\n",
        "\n",
        "Para inicializar um vetor $x=(x_1,x_2,\\dots, x_n)$ com entradas $x_1,\\dots,x_n$ na variável `x`, utilizamos o comando:\n",
        "```python\n",
        "x = np.array([a1,a2,...,an])\n",
        "```\n",
        "Já para inicializar uma matriz $A_{m\\times n}$ com entradas\n",
        "$$\n",
        "A=\n",
        "\\begin{pmatrix}\n",
        "a_{11} & a_{12} & \\cdots & a_{1n} \\\\\n",
        "a_{21} & a_{22} & \\cdots & a_{2n} \\\\\n",
        "\\vdots & & \\ddots & \\vdots \\\\\n",
        "a_{m1} & a_{m2} & \\cdots & a_{mn}\n",
        "\\end{pmatrix},\n",
        "$$\n",
        "utilizamos um comando na forma:\n",
        "```\n",
        "A = np.array([[a11, a12,...,a1n],[a21,a22,..., a2n], ..., [am1,am2, ..., amn]])\n",
        "\n",
        "```\n",
        "Perceba que dentro dos parênteses incluimos um colchete com uma lista de colchetes dentro. Os colchetes internos representam por padrão as **linhas** da matriz, cujas entradas em cada colchete correspondem às entradas da linha correspondente. O colchete externo serve para agrupar essas linhas como se fosse uma matriz."
      ],
      "id": "medium-proof"
    },
    {
      "cell_type": "markdown",
      "source": [
        "Exemplo: no código abaixo, inicalizamos na variável `a` um vetor com entradas $1,2,3$ e na variável `A` uma matriz $A_{2\\times 2}$ com entradas$\n",
        "\\begin{pmatrix}\n",
        "1 & 2 \\\\\n",
        "3 & 4  \n",
        "\\end{pmatrix}\n",
        "$"
      ],
      "metadata": {
        "id": "Nm60yGHoqc6X"
      },
      "id": "Nm60yGHoqc6X"
    },
    {
      "cell_type": "code",
      "metadata": {
        "id": "affiliated-drilling",
        "outputId": "27167abe-6f84-42f0-cf82-92d4a11e9736",
        "colab": {
          "base_uri": "https://localhost:8080/"
        }
      },
      "source": [
        "a = np.array([1,2,3])\n",
        "A = np.array([[1,2],[3,4]])\n",
        "print(\"Vetor a: \")\n",
        "print(a)\n",
        "print(\"Matriz A: \")\n",
        "print(A)"
      ],
      "id": "affiliated-drilling",
      "execution_count": 7,
      "outputs": [
        {
          "output_type": "stream",
          "name": "stdout",
          "text": [
            "Vetor a: \n",
            "[1 2 3]\n",
            "Matriz A: \n",
            "[[1 2]\n",
            " [3 4]]\n"
          ]
        }
      ]
    },
    {
      "cell_type": "markdown",
      "source": [
        "Para acessar um elemento de índice `i` em um vetor `x`, utilizamos o comando na forma:\n",
        "\n",
        "```\n",
        "x[i]\n",
        "```\n",
        "\n",
        "e no caso de uma matriz `A`, para acessar um elemento da linha de índice `i` e da coluna de índice `j`, utilizamos o comando\n",
        "\n",
        "```\n",
        "A[i][j]\n",
        "```\n",
        "\n",
        "**Importante:** o Python, assim como outras linguagens de programação, utiliza o sistema de índices começando no `0`. Assim, para acessar o primeiro item de um vetor `x` utilizamos o comando `x[0]`, o segundo item é acessado com o comando `x[1]`, e assim por diante. Para acessar o item da segunda linha e primeira coluna de uma matriz `A`, usamos o comando `A[1][0]`, etc."
      ],
      "metadata": {
        "id": "NM0pJFiiwPtN"
      },
      "id": "NM0pJFiiwPtN"
    },
    {
      "cell_type": "markdown",
      "source": [
        "Exemplo:"
      ],
      "metadata": {
        "id": "xMtAyj92713_"
      },
      "id": "xMtAyj92713_"
    },
    {
      "cell_type": "code",
      "source": [
        "print(\"Vetor a: \")\n",
        "print(a)\n",
        "print(\"Primeira entrada de a:\")\n",
        "print(a[0])\n",
        "print(\"Matriz A: \")\n",
        "print(A)\n",
        "print(\"Entrada na segunda linha e primeira coluna de A\")\n",
        "print(A[1][0])"
      ],
      "metadata": {
        "colab": {
          "base_uri": "https://localhost:8080/"
        },
        "id": "-iRSTyGs73hV",
        "outputId": "0d2353be-2c9f-441c-d57e-76d81a951528"
      },
      "id": "-iRSTyGs73hV",
      "execution_count": 8,
      "outputs": [
        {
          "output_type": "stream",
          "name": "stdout",
          "text": [
            "Vetor a: \n",
            "[1 2 3]\n",
            "Primeira entrada de a:\n",
            "1\n",
            "Matriz A: \n",
            "[[1 2]\n",
            " [3 4]]\n",
            "Entrada na segunda linha e primeira coluna de A\n",
            "3\n"
          ]
        }
      ]
    },
    {
      "cell_type": "markdown",
      "source": [
        "Outras formas de seleção interessantes:\n",
        "- `x[i:f]` retorna um vetor com as entradas de `x` do índice `i` até `f-1`;\n",
        "- `A[:,i]` retorna um vetor cujas entradas são a coluna de índice `i` da matriz `A`;\n",
        "- `A[i]` retorna um vetor cujas entradas são a linha de índice `i` da matriz `A`;"
      ],
      "metadata": {
        "id": "n3wrB8eR-lcz"
      },
      "id": "n3wrB8eR-lcz"
    },
    {
      "cell_type": "code",
      "source": [
        "x = np.array([1,2,3,4,5,6])\n",
        "A = np.array([[1,2,3],[4,5,6],[7,8,9]])\n",
        "\n",
        "print(\"Índices de 1 a 3 no vetor x\")\n",
        "print(x[1:4])\n",
        "print(\"Coluna de índice 0 de A:\")\n",
        "print(A[:,0])\n",
        "print(\"Linha de índice 0 de A:\")\n",
        "print(A[0])"
      ],
      "metadata": {
        "colab": {
          "base_uri": "https://localhost:8080/"
        },
        "id": "lToSk_vU_TpP",
        "outputId": "a5686833-22f9-4b5e-c072-68bfcd6c4406"
      },
      "id": "lToSk_vU_TpP",
      "execution_count": 9,
      "outputs": [
        {
          "output_type": "stream",
          "name": "stdout",
          "text": [
            "Índices de 1 a 3 no vetor x\n",
            "[2 3 4]\n",
            "Coluna de índice 0 de A:\n",
            "[1 4 7]\n",
            "Linha de índice 0 de A:\n",
            "[1 2 3]\n"
          ]
        }
      ]
    },
    {
      "cell_type": "markdown",
      "metadata": {
        "id": "polish-comfort"
      },
      "source": [
        "## Operações no Numpy\n",
        "\n",
        "Aqui entra o interessante de se trabalhar com o Numpy Array: podemos fazer operações entre arrays como se fosse um número qualquer, como se estivéssemos trabalhando com vetores em $\\mathbb R ^n$, matrizes em $\\mathbb R ^ {mxn}$ ou ainda matrizes multi-dimensionais, com 3, 4,..., n dimensões.\n",
        "\n",
        "Exemplo: Trabalhando em $\\mathbb R^n$ (vetores de tamanho n com uma dimensão), façamos um vetor $a = (1,2,3)$ e $b = (2,2,2)$."
      ],
      "id": "polish-comfort"
    },
    {
      "cell_type": "code",
      "metadata": {
        "colab": {
          "base_uri": "https://localhost:8080/"
        },
        "id": "sized-reading",
        "outputId": "ff52fda7-df3f-48d9-9c52-84e53794178f"
      },
      "source": [
        "a = np.array([1,2,3])\n",
        "b = np.array([2,2,2])\n",
        "\n",
        "print(\"Vetor a:\",a)\n",
        "print(\"Vetor b:\",b)\n"
      ],
      "id": "sized-reading",
      "execution_count": 10,
      "outputs": [
        {
          "output_type": "stream",
          "name": "stdout",
          "text": [
            "Vetor a: [1 2 3]\n",
            "Vetor b: [2 2 2]\n"
          ]
        }
      ]
    },
    {
      "cell_type": "markdown",
      "source": [
        "### Produto por escalar\n",
        "Podemos efetuar a operação de multiplicação de `a` por um valor escalar `k` qualquer simplesmente com a expressão\n",
        "\n",
        "```\n",
        "k * a\n",
        "```\n",
        "\n",
        "Exemplo: na linha a seguir, atribuidos na variável `v` o vetor resultado da operação `-3 * a`."
      ],
      "metadata": {
        "id": "GCLnj5hRt967"
      },
      "id": "GCLnj5hRt967"
    },
    {
      "cell_type": "code",
      "source": [
        "v = -3*a\n",
        "print(\"Multiplicação por escalar -3*a: \",v)\n"
      ],
      "metadata": {
        "colab": {
          "base_uri": "https://localhost:8080/"
        },
        "id": "5YpUBXe-t9cT",
        "outputId": "78cd6f47-809f-4da5-c53f-6210b0e9d5be"
      },
      "id": "5YpUBXe-t9cT",
      "execution_count": 11,
      "outputs": [
        {
          "output_type": "stream",
          "name": "stdout",
          "text": [
            "Multiplicação por escalar -3*a:  [-3 -6 -9]\n"
          ]
        }
      ]
    },
    {
      "cell_type": "markdown",
      "source": [
        "### Soma de vetores\n",
        "Podemos ainda somar dois vetores `a` e `b` com o comando:\n",
        "```\n",
        "a+b\n",
        "```\n",
        "Exemplo: o comando a seguir soma os vetores nas variáveis `a` e `b` declarados anteriormente, atribuindo na variável s."
      ],
      "metadata": {
        "id": "dwXLomYuuwo6"
      },
      "id": "dwXLomYuuwo6"
    },
    {
      "cell_type": "code",
      "source": [
        "s = a+b\n",
        "print(\"Soma de vetores a+b:\",s)"
      ],
      "metadata": {
        "colab": {
          "base_uri": "https://localhost:8080/"
        },
        "id": "jhVbt7uXuSU6",
        "outputId": "872bdc40-8143-49ea-cce6-d537484f8e30"
      },
      "id": "jhVbt7uXuSU6",
      "execution_count": 12,
      "outputs": [
        {
          "output_type": "stream",
          "name": "stdout",
          "text": [
            "Soma de vetores a+b: [3 4 5]\n"
          ]
        }
      ]
    },
    {
      "cell_type": "markdown",
      "source": [
        "### Produto Vetorial ou Produto Escalar\n",
        "\n",
        "Podemos ainda fazer o produto interno, também chamado produto escalar, entre vetores. Lembrando, o produto interno usual ao trabalhar com vetores de $\\mathbb R^n$ (n entradas reais) toma dois vetores $x,y \\in \\mathbb R^n$ com entradas $x=(x_1,\\dots,x_n)$ e $y=(y_1,\\dots,y_n)$ e retorna um valor real dado por:\n",
        "$$\n",
        "\\langle x,y \\rangle = x_1y_1 + x_2y_2 + \\cdots + x_ny_n,\n",
        "$$\n",
        "\n",
        "No Numpy, o produto interno é representado com o operador `@`, utilizando a expressão:\n",
        "```\n",
        "a@b\n",
        "```\n",
        "\n",
        "Exemplo: o código a seguir cria uma variável `p` que armazena o produto interno entre os vetores `a,b` declarados anteriormente."
      ],
      "metadata": {
        "id": "XARZ7zmTvc1s"
      },
      "id": "XARZ7zmTvc1s"
    },
    {
      "cell_type": "code",
      "source": [
        "p = a@b\n",
        "print(\"Produto interno entre a e b: \", p)"
      ],
      "metadata": {
        "colab": {
          "base_uri": "https://localhost:8080/"
        },
        "id": "rxB5iscwvesn",
        "outputId": "7316f94a-1414-41b4-a112-c37ceed9b5d9"
      },
      "id": "rxB5iscwvesn",
      "execution_count": 13,
      "outputs": [
        {
          "output_type": "stream",
          "name": "stdout",
          "text": [
            "Produto interno entre a e b:  12\n"
          ]
        }
      ]
    },
    {
      "cell_type": "markdown",
      "source": [
        "### Função aplicada em vetor\n",
        "\n",
        "Podemos ainda aplicar qualquer vetor em uma função matemática criada qualquer. Dado um vetor `x` com entradas `x1,...,xn`, o retorno de `f(x)` é outro vetor com mesmo número de entradas, cujos valores são as respectivas imagens `f(x1),...,f(xn)`.\n",
        "\n",
        "Exemplo: o código a seguir cria uma função $f$ que receb uma variável $x$ e retorna $f(x)= x^2$. Em seguida, cria-se uma variável `res` que armazena o valor de `f` aplicada no vetor `a=[1,2,3]` declarado anteriormente, mostrando seu valor na sequência."
      ],
      "metadata": {
        "id": "KdqzXRlVxMOe"
      },
      "id": "KdqzXRlVxMOe"
    },
    {
      "cell_type": "code",
      "source": [
        "f = lambda x: x**2\n",
        "res = f(a)\n",
        "print(\"Função f aplicada no vetor a: \", res)\n"
      ],
      "metadata": {
        "colab": {
          "base_uri": "https://localhost:8080/"
        },
        "id": "6zx9ABGSuSD-",
        "outputId": "dc3465b1-0c0e-488f-a9df-9837d27211ce"
      },
      "id": "6zx9ABGSuSD-",
      "execution_count": 14,
      "outputs": [
        {
          "output_type": "stream",
          "name": "stdout",
          "text": [
            "Função f aplicada no vetor a:  [1 4 9]\n"
          ]
        }
      ]
    },
    {
      "cell_type": "markdown",
      "source": [
        "## Operações em Matrizes Numpy"
      ],
      "metadata": {
        "id": "iYlPjUnBxLfS"
      },
      "id": "iYlPjUnBxLfS"
    },
    {
      "cell_type": "markdown",
      "metadata": {
        "id": "electronic-berlin"
      },
      "source": [
        "Exemplo 2: Trabalhando em $M_{mxn}$ (Matrizes 2-D $mxn$), vamos fazer duas matrizes:\n",
        "\n",
        "$$\n",
        "A = \\begin{bmatrix}\n",
        "    1 && 2 \\\\\n",
        "    3 && 4\n",
        "\\end{bmatrix}\n",
        ",\n",
        "B = \\begin{bmatrix}\n",
        "    2 && 2 \\\\\n",
        "    2 && 2\n",
        "\\end{bmatrix}\n",
        "$$"
      ],
      "id": "electronic-berlin"
    },
    {
      "cell_type": "code",
      "metadata": {
        "id": "caring-tribune",
        "outputId": "8ed8d744-709d-40e9-e001-02c61ff99ba4",
        "colab": {
          "base_uri": "https://localhost:8080/"
        }
      },
      "source": [
        "A = np.array([[1,2],[3,4]])\n",
        "B = np.array([[2,2],[2,2]])\n",
        "\n",
        "print(\"Matriz a:\")\n",
        "print(A)\n",
        "print(\"Matriz b:\")\n",
        "print(B)"
      ],
      "id": "caring-tribune",
      "execution_count": 15,
      "outputs": [
        {
          "output_type": "stream",
          "name": "stdout",
          "text": [
            "Matriz a:\n",
            "[[1 2]\n",
            " [3 4]]\n",
            "Matriz b:\n",
            "[[2 2]\n",
            " [2 2]]\n"
          ]
        }
      ]
    },
    {
      "cell_type": "markdown",
      "source": [
        "### Soma de matrizes\n",
        "\n",
        "De mesma forma como nos vetores, para fazer a soma usual de duas matrizes `A` e `B`, utilizamos o operador `+` usual.\n",
        "\n",
        "Exemplo: somando as matrizes `A` e `B` definidas anteriormente."
      ],
      "metadata": {
        "id": "UtvKWCEE46cV"
      },
      "id": "UtvKWCEE46cV"
    },
    {
      "cell_type": "code",
      "source": [
        "print(\"Soma das matrizes A+B:\")\n",
        "print(A+B)"
      ],
      "metadata": {
        "colab": {
          "base_uri": "https://localhost:8080/"
        },
        "id": "jmdDguss46Eo",
        "outputId": "0b78e7df-7ace-4616-e78a-a4de248cf6d7"
      },
      "id": "jmdDguss46Eo",
      "execution_count": 16,
      "outputs": [
        {
          "output_type": "stream",
          "name": "stdout",
          "text": [
            "Soma das matrizes A+B:\n",
            "[[3 4]\n",
            " [5 6]]\n"
          ]
        }
      ]
    },
    {
      "cell_type": "markdown",
      "source": [
        "### Produto por escalar\n",
        "\n",
        "Da mesma forma que com vetores, odemos efetuar a operação de multiplicação de `A` por um valor escalar `k` qualquer simplesmente com a expressão\n",
        "\n",
        "```\n",
        "k * A\n",
        "```\n"
      ],
      "metadata": {
        "id": "n9g_lGMl4vNp"
      },
      "id": "n9g_lGMl4vNp"
    },
    {
      "cell_type": "code",
      "source": [
        "\n",
        "print(\"Multiplicação por escalar -3*A: \")\n",
        "print(-3*A)"
      ],
      "metadata": {
        "colab": {
          "base_uri": "https://localhost:8080/"
        },
        "id": "iKcPkzJ74g8A",
        "outputId": "64c30b92-049d-4ec8-8236-ca1a12b1867c"
      },
      "id": "iKcPkzJ74g8A",
      "execution_count": 17,
      "outputs": [
        {
          "output_type": "stream",
          "name": "stdout",
          "text": [
            "Multiplicação por escalar -3*A: \n",
            "[[ -3  -6]\n",
            " [ -9 -12]]\n"
          ]
        }
      ]
    },
    {
      "cell_type": "markdown",
      "source": [
        "### Produto matricial\n",
        "\n",
        "No caso de matrizes, o operador `@` faz o papel do produto usual entre matrizes.\n",
        "\n",
        "Exemplo: produto entre as matrizes `A,B` definidas anteriormente"
      ],
      "metadata": {
        "id": "vtntwGSh5e3A"
      },
      "id": "vtntwGSh5e3A"
    },
    {
      "cell_type": "code",
      "source": [
        "print(\"Produto matricial A@B :\")\n",
        "print(A@B)"
      ],
      "metadata": {
        "colab": {
          "base_uri": "https://localhost:8080/"
        },
        "id": "G1FWGFEx4iVo",
        "outputId": "49099644-6a5b-47d6-f001-cba8e5585c80"
      },
      "id": "G1FWGFEx4iVo",
      "execution_count": 18,
      "outputs": [
        {
          "output_type": "stream",
          "name": "stdout",
          "text": [
            "Produto matricial A@B :\n",
            "[[ 6  6]\n",
            " [14 14]]\n"
          ]
        }
      ]
    },
    {
      "cell_type": "markdown",
      "source": [
        "Também podemos fazer um produto matriz-vetor, não precisando transformar o vetor em uma matriz-coluna. No exemplo abaixo, criamos um vetor $v = \\begin{bmatrix} 1 & 2 \\end{bmatrix}^T$ e fazemos o produto $Av$:"
      ],
      "metadata": {
        "id": "J4oqu-01M7KX"
      },
      "id": "J4oqu-01M7KX"
    },
    {
      "cell_type": "code",
      "source": [
        "v = np.array([1,2])\n",
        "print(A@v)"
      ],
      "metadata": {
        "colab": {
          "base_uri": "https://localhost:8080/"
        },
        "id": "8_9AtfaLNVVg",
        "outputId": "4c94c4fb-2f03-4e70-81a4-64054d6b6f4c"
      },
      "id": "8_9AtfaLNVVg",
      "execution_count": 19,
      "outputs": [
        {
          "output_type": "stream",
          "name": "stdout",
          "text": [
            "[ 5 11]\n"
          ]
        }
      ]
    },
    {
      "cell_type": "markdown",
      "metadata": {
        "id": "crude-immunology"
      },
      "source": [
        "## Algumas funções Interessantes\n",
        "\n",
        "Há dezenas de funções interessantes do Numpy, a lista completa pode ser vista na [documentação oficial] (https://numpy.org/devdocs/reference/). Listamos algumas interessantes e mais frequentes abaixo:\n",
        "\n",
        "Sendo `A`, `a1,a2,...,an` e `b` numpy arrays, `i` e `f` valores valores numéricos quaisquer, e  `m,n` valores inteiros:\n",
        "\n",
        "- `np.arange(n)`: cria um array nx1 indo de 0 a n-1. Também pode ser incluido um início e um passo, igual a função `range(n)`. Nesse caso ainda aceita valores reais;\n",
        "- `np.linspace(i,f,n)`: cria um array nx1 indo de `i` até `f` com `n` elementos igualmente espaçados;\n",
        "- `np.zeros(n)` OU `np.zeros((m,n))`: retorna um vetor de n entradas/matriz $m \\times n$ preenchido por zeros\n",
        "- `np.ones(n)` OU `np.ones((m,n))`: retorna um vetor de n entradas/matriz $m \\times n$ preenchido por 1\n",
        "- `np.identity(n)` : retorna a matriz identidade $I_{n \\times n}$.\n",
        "- `A.T`: retorna a transposta de A\n",
        "- `np.shape(A)`: retorna a dimensão de A na forma de uma tupla. Para acessar cada dimensão, o número de linhas e o número de colunas, usamos `np.shape(A)[0]` e `np.shape(A)[1]` respectivamente;\n",
        "- `np.stack([a1,a2,...,an],axis=0)` OU `np.stack([a1,a2,...,an],axis=1)`: cria uma matriz cujas linhas ou colunas são formadas pelos vetores `a1,a2,...,an`. Use `axis=0` para que os vetores sejam as linhas, e `axis=1` para que sejam as colunas;  \n",
        "- `np.linalg.norm(x)`: retorna a norma do vetor x, usando a norma usual $\\|x\\|_2 = \\sqrt{x_1^2 + \\cdots + x_N^2}$.\n",
        "- `np.det(A)`: retorna o determinante, sendo `A` uma matriz quadrada;\n",
        "- `np.linalg.solve(A,b)`: retorna um vetor solução `x` para a equação `Ax=b` (quando existe);"
      ],
      "id": "crude-immunology"
    },
    {
      "cell_type": "code",
      "metadata": {
        "id": "banned-efficiency",
        "outputId": "7547bee1-a4fe-479c-c5d4-7f7bd14780dc",
        "colab": {
          "base_uri": "https://localhost:8080/"
        }
      },
      "source": [
        "A = np.array([[1,2],[0,0]])\n",
        "b = np.array([1,2])\n",
        "\n",
        "print('arange(10)')\n",
        "print(np.arange(10), \"\\n\")\n",
        "\n",
        "print(\"linspace(0,2,20)\")\n",
        "print(np.linspace(0,2,10),\"\\n\")\n",
        "\n",
        "print(\"np.zeros(2,2)\")\n",
        "print(np.zeros((2,2)),\"\\n\")\n",
        "\n",
        "print(\"np.identity(3)\")\n",
        "print(np.identity(3),\"\\n\")\n",
        "\n",
        "print(\"A.T\")\n",
        "print(A.T,\"\\n\")\n",
        "\n",
        "C = np.array([[1,2,3],[4,5,6]])\n",
        "print(\"shape(C)\")\n",
        "print(np.shape(C),\"\\n\")\n",
        "print(\"Nº de linhas:\", np.shape(C)[0])\n",
        "print(\"Nº de colunas:\", np.shape(C)[1])\n"
      ],
      "id": "banned-efficiency",
      "execution_count": 20,
      "outputs": [
        {
          "output_type": "stream",
          "name": "stdout",
          "text": [
            "arange(10)\n",
            "[0 1 2 3 4 5 6 7 8 9] \n",
            "\n",
            "linspace(0,2,20)\n",
            "[0.         0.22222222 0.44444444 0.66666667 0.88888889 1.11111111\n",
            " 1.33333333 1.55555556 1.77777778 2.        ] \n",
            "\n",
            "np.zeros(2,2)\n",
            "[[0. 0.]\n",
            " [0. 0.]] \n",
            "\n",
            "np.identity(3)\n",
            "[[1. 0. 0.]\n",
            " [0. 1. 0.]\n",
            " [0. 0. 1.]] \n",
            "\n",
            "A.T\n",
            "[[1 0]\n",
            " [2 0]] \n",
            "\n",
            "shape(C)\n",
            "(2, 3) \n",
            "\n",
            "Nº de linhas: 2\n",
            "Nº de colunas: 3\n"
          ]
        }
      ]
    },
    {
      "cell_type": "code",
      "source": [],
      "metadata": {
        "id": "mDlNCLknIW8d"
      },
      "id": "mDlNCLknIW8d",
      "execution_count": 20,
      "outputs": []
    },
    {
      "cell_type": "markdown",
      "metadata": {
        "id": "original-checkout"
      },
      "source": [
        "# Matplotlib\n",
        "\n",
        "O Matplotlib é uma biblioteca de ferramentas para criação de gráficos, estáticos, animados ou até interativos, para visualização no Python. Com esse conjunto de ferramentas é possível criar visualizações gráficas dos mais variados tipos, desde a criação de gráficos cartesianos tradicionais, estatísticos como gráficos de barras ou histogramas, até exemplos mais avançados como gráficos tridimensionais e trabalhos com imagens. É uma das ferramentas mais básicas e intuitivas de se trabalhar com gráficos no Python, mas possui um acervo bem grande de coisas possíveis de se fazer e de personalizações que as ferramentas permitem.\n",
        "\n",
        "Essa biblioteca é um módulo que naturalmente seria necessário instalar, através do *pip* ou outro gerenciador de pacotes, mas no Google Colab ele já vem instalado.\n",
        "\n",
        "## Importando\n",
        "Como comentado, o Matplotlib é uma biblioteca extensa e com muitos conjuntos de ferramentas diferentes. Assim, não compensa tanto importar todas as ferramentas, pois aloca uma certa quantidade de memória desnecessária no nosso programa, podendo apenas importar alguns dos conjuntos de ferramentas presentes.\n",
        "\n",
        "Aqui iremos apenas importar o `pyplot`, conjunto de ferramentas do Matplotlib com o básico para se trabalhar com gráficos bidimensionais. Para importar o pyplot, podemos usar o comando abaixo:"
      ],
      "id": "original-checkout"
    },
    {
      "cell_type": "code",
      "metadata": {
        "id": "prime-friendly"
      },
      "source": [
        "import matplotlib.pyplot as plt ## plt é um apelido comum para o pyplot, comum em muitos exemplos e programas"
      ],
      "id": "prime-friendly",
      "execution_count": 21,
      "outputs": []
    },
    {
      "cell_type": "markdown",
      "metadata": {
        "id": "educated-appreciation"
      },
      "source": [
        "Os gráficos mais básicos do Matplotlib funcionam com base em dados presentes em Listas ou Dicionários. Podemos começar pelo básico por exemplo de gráficos cartesianos:"
      ],
      "id": "educated-appreciation"
    },
    {
      "cell_type": "markdown",
      "metadata": {
        "id": "ancient-relative"
      },
      "source": [
        "## Gráficos Cartesianos\n",
        "\n",
        "O gráfico cartesiano no Matplotlib funciona no sistema de correspondência de coordenadas. Nós podemos passar como argumento para o método `plt.plot()` uma lista de valores `[y1,y2,...,yn]`, e o método assim irá plotar um gráfico de linhas conectando as coordenadas $(0,y_1),(1,y_2),...,(n-1,y_n)$ no plano (lembrando que a contagem de vetores no Python começa no 0, por isso com n valores as abcissas vão de 0 a n-1). Chamamos o método `plt.plot()` com a lista de valores como parâmetro, e em sequência chamamos o comando `plt.show()` para exibir o gráfico (tente alterar os valores de y para ver a alteração no gráfico):\n"
      ],
      "id": "ancient-relative"
    },
    {
      "cell_type": "code",
      "metadata": {
        "colab": {
          "base_uri": "https://localhost:8080/",
          "height": 430
        },
        "id": "iraqi-adolescent",
        "outputId": "fce86d44-db51-4160-cc2d-f59f10db505c"
      },
      "source": [
        "y = np.array([3,4,1,2])\n",
        "\n",
        "plt.plot(y)\n",
        "plt.show()"
      ],
      "id": "iraqi-adolescent",
      "execution_count": 22,
      "outputs": [
        {
          "output_type": "display_data",
          "data": {
            "text/plain": [
              "<Figure size 640x480 with 1 Axes>"
            ],
            "image/png": "[encoded data removed]"
          },
          "metadata": {}
        }
      ]
    },
    {
      "cell_type": "markdown",
      "metadata": {
        "id": "spare-collapse"
      },
      "source": [
        "Por padrão, passando apenas uma lista de n valores irá imprimir o gráfico com as abcissas de $0$ até $n-1$. Caso queiramos passar abcissas personalizadas, basta passar antes do vetor de valores de `y` um vetor de valores `x1,x2,...,xn`. Dessa forma, as coordenadas do gráfico conectadas serão as coordenadas $(x_1,y_1),(x_2,y_2),...,(x_n,y_n)$.\n",
        "\n",
        "**Importante:** é preciso atentar que as duas listas, `x=[x1,...,xn]` e `y=[y1,..,yn]`, tenham o mesmo tamanho $n$, e que as coordenadas correspondentes estejam nas posições correspondentes.\n",
        "\n",
        "O código fica da seguinte forma:\n",
        "```python\n",
        "plt.plot(x,y)\n",
        "plt.show()\n",
        "```\n",
        "onde\n",
        "- `x=np.array([x1,...,xn])` é vetor contendo valores para as abcissas (valores de x no gráfico);\n",
        "- `y=np.array([y1,...,yn])` é uma lista de valores para as ordenadas (valores de y no gráfico);\n",
        "- `plt.plot(x,y)` é o método que recebe os valores a serem plotados;\n",
        "- `plt.show()` é o método que exibe o gráfico com as configurações indicadas;\n",
        "\n",
        "Nota: mesmo sem chamar o método `plt.show()` o gráfico pode ser exibido, porém, é sempre ideal executá-lo para encerrar as configurações do gráfico em questão e não confundir caso haja um gráfico na sequência.\n"
      ],
      "id": "spare-collapse"
    },
    {
      "cell_type": "markdown",
      "source": [
        "O método `plt.plot()` cria um gráfico de linhas, onde cada. Outro tipo de gráfico que pode ser criado é o chamado Gráfico de Dispersão, onde são criados."
      ],
      "metadata": {
        "id": "46PDV1qgFMJ-"
      },
      "id": "46PDV1qgFMJ-"
    },
    {
      "cell_type": "markdown",
      "metadata": {
        "id": "developing-knife"
      },
      "source": [
        "Por padrão o gráfico utilizado é o de linhas azuis, mas podemos personalizar passando um parâmetro a mais indicando o tipo de plot utilizado. Podemos colocar marcadores, linhas e indicar a cor usada. Por exemplo:\n",
        "- `\"-\"` faz um gráfico unindo os pontos com uma linha contínua (é o padrão)\n",
        "- `\".\"` faz um gráfico marcando com pontinhos\n",
        "- `\"o\"` faz um gráfico com bolinhas\n",
        "- `\"--\"` faz um gráfico com uma linha traçada\n",
        "- `\"-o\"` faz um gráfico com uma linha contínua e bolinhas nos pontos plotados\n",
        "\n",
        "A cor usada pode ser indicada na sequência final. Algumas cores são:\n",
        "- 'b' azul\n",
        "- 'g' verde\n",
        "- 'r' vermelho\n",
        "- 'c' ciano\n",
        "- 'm' magenta\n",
        "- 'y' amarelo\n",
        "- 'k' preto\n",
        "- 'w' branco\n",
        "\n",
        "A documentação inteira pode ser vista na [seguinte página](https://matplotlib.org/stable/api/_as_gen/matplotlib.pyplot.plot.html#matplotlib.pyplot.plot)."
      ],
      "id": "developing-knife"
    },
    {
      "cell_type": "code",
      "metadata": {
        "id": "downtown-reunion",
        "outputId": "46dd0789-6c43-4d44-bbce-0ca29dda3827",
        "colab": {
          "base_uri": "https://localhost:8080/",
          "height": 843
        }
      },
      "source": [
        "x = np.arange(0,6,20)\n",
        "y1 = x**2\n",
        "\n",
        "plt.plot(x,y1,\".\")\n",
        "plt.show()\n",
        "\n",
        "\n",
        "plt.plot(x,y1,\"or\")\n",
        "plt.show()\n",
        "\n"
      ],
      "id": "downtown-reunion",
      "execution_count": 23,
      "outputs": [
        {
          "output_type": "display_data",
          "data": {
            "text/plain": [
              "<Figure size 640x480 with 1 Axes>"
            ],
            "image/png": "[encoded data removed]"
          },
          "metadata": {}
        },
        {
          "output_type": "display_data",
          "data": {
            "text/plain": [
              "<Figure size 640x480 with 1 Axes>"
            ],
            "image/png": "[encoded data removed]"
          },
          "metadata": {}
        }
      ]
    },
    {
      "cell_type": "code",
      "metadata": {
        "id": "curious-depth",
        "outputId": "3a07f672-9906-49ec-9617-e9da2b0f4452",
        "colab": {
          "base_uri": "https://localhost:8080/",
          "height": 843
        }
      },
      "source": [
        "plt.plot(x,y1,\"--g\")\n",
        "plt.show()\n",
        "\n",
        "plt.plot(x,y1,\"-oy\")\n",
        "plt.show()"
      ],
      "id": "curious-depth",
      "execution_count": 24,
      "outputs": [
        {
          "output_type": "display_data",
          "data": {
            "text/plain": [
              "<Figure size 640x480 with 1 Axes>"
            ],
            "image/png": "[encoded data removed]"
          },
          "metadata": {}
        },
        {
          "output_type": "display_data",
          "data": {
            "text/plain": [
              "<Figure size 640x480 with 1 Axes>"
            ],
            "image/png": "[encoded data removed]"
          },
          "metadata": {}
        }
      ]
    },
    {
      "cell_type": "markdown",
      "metadata": {
        "id": "focused-stack"
      },
      "source": [
        "## Aliando Numpy e Matplotlib\n",
        "\n",
        "O Numpy e o Matplotlib são dois módulos que funcionam perfeitamente em conjunto, tendo funções em ambas que funcionam uma com a outra, podendo usar Numpy Arrays para a plotagem dos gráficos.\n",
        "\n",
        "**Exemplo:** plotagem de funções. Façamos a plotagem da função $x^2-5x+2$ no intervalo $[-3,5]$.\n",
        "\n",
        "Precisamos fazer um vetor com o intervalo em que se deseja plotar a função, e em seguida aplicar a função nesse vetor do intervalo.\n",
        "\n",
        "Podemos usar a função `np.linspace(a,b,n)` do Numpy para fazer o intervalo desejado, tendo `a` o ponto de início, `b` o ponto final e `n` o número de elementos no vetor. No nosso caso temos `a=-3`, `b=5` e `n` é arbitrário, mas quanto menores valores de `n` mais \"quadrado\" vai ficar nosso gráfico, e para valores de `n` muito grandes pode pesar um pouco no processamento. Vale testar para um certo número de valores para ver a partir de que número de pontos que o gráfico suaviza."
      ],
      "id": "focused-stack"
    },
    {
      "cell_type": "code",
      "metadata": {
        "id": "experimental-syntax"
      },
      "source": [
        "x = np.linspace(-3,5,20)"
      ],
      "id": "experimental-syntax",
      "execution_count": 25,
      "outputs": []
    },
    {
      "cell_type": "markdown",
      "metadata": {
        "id": "effective-theory"
      },
      "source": [
        "Como visto, podemos fazer uma função que recebe um Numpy Array e trata como um número qualquer, que vai retornar um vetor com a função aplicada em todos os valores do array passado por parâmetro.\n",
        "\n",
        "Com a função criada, podemos aplicar no array `x` do intervalo que criamos."
      ],
      "id": "effective-theory"
    },
    {
      "cell_type": "code",
      "metadata": {
        "scrolled": true,
        "id": "narrow-structure",
        "outputId": "199b1e26-cd71-4891-e5ff-df0e1949428c",
        "colab": {
          "base_uri": "https://localhost:8080/"
        }
      },
      "source": [
        "f = lambda x: x**2 - 5*x + 2\n",
        "\n",
        "y = f(x)\n",
        "print(y)"
      ],
      "id": "narrow-structure",
      "execution_count": 26,
      "outputs": [
        {
          "output_type": "stream",
          "name": "stdout",
          "text": [
            "[26.         21.54570637 17.44598338 13.70083102 10.31024931  7.27423823\n",
            "  4.59279778  2.26592798  0.29362881 -1.32409972 -2.58725762 -3.49584488\n",
            " -4.0498615  -4.24930748 -4.09418283 -3.58448753 -2.72022161 -1.50138504\n",
            "  0.07202216  2.        ]\n"
          ]
        }
      ]
    },
    {
      "cell_type": "markdown",
      "metadata": {
        "id": "brief-innocent"
      },
      "source": [
        "Agora podemos plotar a função usando o `pyplot`:"
      ],
      "id": "brief-innocent"
    },
    {
      "cell_type": "code",
      "metadata": {
        "scrolled": false,
        "id": "exposed-encyclopedia",
        "outputId": "173c80ae-f59b-4fa0-b1b9-ff098a0acdcc",
        "colab": {
          "base_uri": "https://localhost:8080/",
          "height": 430
        }
      },
      "source": [
        "plt.plot(x,y)\n",
        "plt.show()"
      ],
      "id": "exposed-encyclopedia",
      "execution_count": 27,
      "outputs": [
        {
          "output_type": "display_data",
          "data": {
            "text/plain": [
              "<Figure size 640x480 with 1 Axes>"
            ],
            "image/png": "[encoded data removed]"
          },
          "metadata": {}
        }
      ]
    },
    {
      "cell_type": "code",
      "source": [],
      "metadata": {
        "id": "d_26CyLAAfca"
      },
      "id": "d_26CyLAAfca",
      "execution_count": 27,
      "outputs": []
    },
    {
      "cell_type": "markdown",
      "source": [
        "# Exemplo de aplicação: Regressão Polinomial de Mínimos Quadrados\n",
        "\n",
        "Um dos problemas clássicos em matemática aplicada consiste no problema de aproximar funções a partir das informações de certos pontos observados. Vamos nos restringir aqui ao caso de apenas uma variável dependente e uma independente. Isto é, temos um conjunto de valores observados $x_i$ associados a determinados $y_i$ correspondentes, como uma função na forma\n",
        "\n",
        "$$\n",
        "(x_0,y_0),\\dots, (x_n,y_n),\n",
        "$$\n",
        "\n",
        "onde queremos construir uma função $f$ tal que $f(x_i) \\approx y_i$ para todos os pares $(x_i,y_i)$ observados, podendo ainda ser aplicada em quaisquer valores intermediários.\n",
        "\n",
        "O ideal seria se a função pudesse representar exatamente os dados. Porém, nem sempre os dados são bem comportados para ter uma função regular o suficiente que cumpra isso. Além disso, lidamos em boa parte do tempo com dados ruidosos ou que provém de observações aleatórias. Por exemplo: no conjunto de dados representados no gráfico abaixo, como seria uma função que retornasse exatamente cada par ordenado registrado?\n",
        "\n",
        "![](https://www.flai.com.br/wp-content/uploads/2020/07/scat-768x432.png)\n",
        "\n",
        "Desse modo, buscamos uma função que melhor aproxime o conjunto de dados, ou seja, que dê o menor erro possível. Há diferentes funções e métodos para reconstruí-las com esse fim, sendo uma das mais tradicionais o uso de polinômios.\n"
      ],
      "metadata": {
        "id": "r1-A703E8ctq"
      },
      "id": "r1-A703E8ctq"
    },
    {
      "cell_type": "markdown",
      "source": [
        "\n",
        "Regressão polinomial consiste em construir um polinômio $p_n(x) = a_0 + a_1x + a_2x^2 + \\cdots + a_nx^n$, com grau menor ou igual a $n$, com um certo $n$ fixado, que mais aproxime um conjunto de dados observados $(x_i,y_i)$ satisfazendo $p_n(x_i)\\approx y_i$. Essa aproximação é tradicionalmente medida em termos do da soma dos erros quadráticos, dada por:\n",
        "\n",
        "$$\n",
        "E_n = \\sum_{i=1}^N (y_i - p_n(x_i))^2\n",
        "$$\n",
        "\n",
        "A regressão por Mínimos Quadrados consiste em obter o polinômio $p_n$ com coeficientes $a_0, \\dots, a_n$ que dê o menor erro $E_n$ possível com relação ao conjunto de dados. Existem alguns caminhos para obter esses coeficientes que concedam um erro mínimo, sendo o mais tradicional obtido no processo descrito a seguir."
      ],
      "metadata": {
        "id": "Tr_oRfy3Dz2E"
      },
      "id": "Tr_oRfy3Dz2E"
    },
    {
      "cell_type": "markdown",
      "source": [
        "Escolha um valor $n>0$ fixado e seja $p_n(x)$ o polinômio desejado.\n",
        "\n",
        "Além disso, sejam $(x_1,y_1),\\dots, (x_N,y_N)$ o conjunto de dados utilizados. Construímos a matriz $X$ dada por:\n",
        "\n",
        "$$\n",
        "X = \\begin{pmatrix}\n",
        "1 & x_1 & (x_1)^2 & \\cdots & (x_1)^n \\\\\n",
        "1 & x_2 & (x_2)^2 & \\cdots & (x_2)^n \\\\\n",
        "\\vdots & \\vdots & & \\ddots \\\\\n",
        "1 & x_N & (x_N)^2 & & (x_N)^n\n",
        "\\end{pmatrix}\n",
        "$$\n",
        "\n",
        "Veja que cada linha corresponde a cada dado, e cada coluna corresponde a todos os dados elevados a um mesmo expoente.\n",
        "Construindo o vetor $y$ dado por:\n",
        "$$\n",
        "y = \\begin{pmatrix}\n",
        "y_1 \\\\\n",
        "y_2 \\\\\n",
        "\\vdots \\\\\n",
        "y_N\n",
        "\\end{pmatrix}\n",
        "$$,\n",
        "com todos os valores da variável $y$ na ordem correpondente. Por fim, juntamos os coeficientes $a_0, \\dots, a_n$ do polinômio desejado em um vetor $\\mathbf a$ dado por\n",
        "\n",
        "$$\n",
        "\\mathbf{a} = \\begin{pmatrix}\n",
        "a_0 \\\\\n",
        "a_1 \\\\\n",
        "\\vdots \\\\\n",
        "a_n\n",
        "\\end{pmatrix}\n",
        "$$,\n",
        "\n",
        "É possível demonstrar que os coeficientes $a_0,a_1,\\dots,a_n$ que minimizam o erro $E_n$ descrito acima são entradas do vetor solução da equação:\n",
        "$$\n",
        "X^T X \\mathbf{a} = X^Ty\n",
        "$$.\n",
        "\n",
        "Isto é, sendo $\\mathbf{a} = ( a_0, a_1, \\dots, a_n )^T$, solução da equação acima, o polinômio que melhor aproxima os dados $(x_1,y_1),\\dots, (x_N,y_N)$ é dado por\n",
        "\n",
        "$$\n",
        "p_n(x) = p_n(x) = a_0 + a_1x + a_2x^2 + \\cdots + a_nx^n\n",
        "$$"
      ],
      "metadata": {
        "id": "LMUc1eo7FpaF"
      },
      "id": "LMUc1eo7FpaF"
    },
    {
      "cell_type": "markdown",
      "source": [
        "A seguir, implementamos esse método para um conjunto de dados gerados artificialmente, os quais podem ser acessados numa planilha [clicando aqui](https://docs.google.com/spreadsheets/d/1ogM0Ph9LxGTBmJQTn8odce92JaBSAheQK8U2I1yHmns/edit?usp=sharing). Nela, temos os dados de x na primeira coluna e os dados y correspondentes na segunda coluna.\n",
        "\n",
        "Para baixar a planilha, vá em \"Arquivo - Fazer Download Como\" e selecione o formato \"Valores Separados por Vírgula (.csv)\". Uma vez baixada, para usá-la no Colab abra o documento onde você quer utilizar a planilha, vá na aba onde há um ícone de uma pasta para ir em \"Arquivos\". Depois, basta arrastar o arquivo da planilha, ou selecionar o ícone com uma seta para cima para fazer upload.\n",
        "\n",
        "O comando abaixo importa os dados presentes nesse arquivo com nome \"data.csv\" e aramazena na forma de uma matriz numpy na variável `dados` criada."
      ],
      "metadata": {
        "id": "_oi6EzouKCCD"
      },
      "id": "_oi6EzouKCCD"
    },
    {
      "cell_type": "code",
      "source": [
        "# importar os dados\n",
        "dados = np.loadtxt(\"dadoseamat.csv\",delimiter=',')"
      ],
      "metadata": {
        "id": "GgfCTIWeRIi0"
      },
      "id": "GgfCTIWeRIi0",
      "execution_count": 29,
      "outputs": []
    },
    {
      "cell_type": "markdown",
      "source": [
        "A seguir, uma implementação de como resolvemos o problema da regressão polinomial por mínimos quadrados."
      ],
      "metadata": {
        "id": "QZXvUGWJRS76"
      },
      "id": "QZXvUGWJRS76"
    },
    {
      "cell_type": "code",
      "source": [
        "# criar o vetor x a partir da primeira coluna dos dados\n",
        "x = dados[:,0]\n",
        "\n",
        "#obtém o número de elementos N de x\n",
        "N = x.shape[0]\n",
        "\n",
        "## criar a matriz X\n",
        "\n",
        "x0 = np.ones(N) #cria um vetor preenchido por 1 com a mesma dimensão de x\n",
        "x2 = x**2 #cria um vetor com cada entrada de x elevada ao quadrado\n",
        "\n",
        "#cria a matriz x\n",
        "X = np.stack([x0,x,x2],axis=1)\n",
        "\n",
        "# criar o vetor y a partir da segunda coluna dos dados\n",
        "y = dados[:,1]\n",
        "\n",
        "# resolver o sistema X^TX a = X^Ty\n",
        "a = np.linalg.solve(X.T@X, X.T@y)"
      ],
      "metadata": {
        "id": "Db6KLFgy7mNc"
      },
      "execution_count": 30,
      "outputs": [],
      "id": "Db6KLFgy7mNc"
    },
    {
      "cell_type": "code",
      "source": [
        "print(\"Vetor de coeficientes:\")\n",
        "print(a)"
      ],
      "metadata": {
        "colab": {
          "base_uri": "https://localhost:8080/"
        },
        "id": "eCNlUbsrJ6ae",
        "outputId": "e1218710-7f3b-4790-be76-b3d8bdb35443"
      },
      "id": "eCNlUbsrJ6ae",
      "execution_count": 33,
      "outputs": [
        {
          "output_type": "stream",
          "name": "stdout",
          "text": [
            "Vetor de coeficientes:\n",
            "[ 3.28581546 -0.59104105  1.10544797]\n"
          ]
        }
      ]
    },
    {
      "cell_type": "code",
      "source": [
        "# montar o polinômio p(x) = a0 + a1x + a2x²\n",
        "p = lambda x: a[0] + a[1]*x + a[2]*x**2\n",
        "\n",
        "#aplica p para os valores de x, armazenando na variável pred\n",
        "pred = p(x)\n",
        "\n",
        "# cria um vetor de erro\n",
        "vetorerro = y - pred\n",
        "erro = np.linalg.norm(vetorerro)\n",
        "print(erro)"
      ],
      "metadata": {
        "colab": {
          "base_uri": "https://localhost:8080/"
        },
        "id": "e6eKJIV-IK9f",
        "outputId": "1e2f9775-5fe5-45fe-fbb6-d858296a7fb8"
      },
      "execution_count": 31,
      "outputs": [
        {
          "output_type": "stream",
          "name": "stdout",
          "text": [
            "5.716427362820818\n"
          ]
        }
      ],
      "id": "e6eKJIV-IK9f"
    },
    {
      "cell_type": "code",
      "source": [
        "#plotando o gráfico\n",
        "t = np.linspace(-1,6,50)\n",
        "pt = p(t)\n",
        "plt.plot(x,pred,\".\")\n",
        "plt.plot(t,pt)\n",
        "plt.show()"
      ],
      "metadata": {
        "colab": {
          "base_uri": "https://localhost:8080/",
          "height": 430
        },
        "id": "ly__sEAcJaxj",
        "outputId": "c00b604c-3f23-49c9-8fda-885fc26e38e0"
      },
      "id": "ly__sEAcJaxj",
      "execution_count": 32,
      "outputs": [
        {
          "output_type": "display_data",
          "data": {
            "text/plain": [
              "<Figure size 640x480 with 1 Axes>"
            ],
            "image/png": "[encoded data removed]"
          },
          "metadata": {}
        }
      ]
    }
  ]
}